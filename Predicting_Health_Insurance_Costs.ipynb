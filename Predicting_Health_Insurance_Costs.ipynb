{
 "cells": [
  {
   "cell_type": "markdown",
   "metadata": {},
   "source": [
    "# Health Insurance Cost Prediction "
   ]
  },
  {
   "cell_type": "code",
   "execution_count": 1,
   "metadata": {},
   "outputs": [],
   "source": [
    "import os \n",
    "import pandas as pd\n",
    "import datetime\n",
    "import seaborn as sns\n",
    "import matplotlib.pyplot as plt\n",
    "import numpy as np\n",
    "%matplotlib inline \n",
    "import sklearn.linear_model as linear_model\n",
    "import sklearn.preprocessing as preprocessing "
   ]
  },
  {
   "cell_type": "code",
   "execution_count": 2,
   "metadata": {},
   "outputs": [],
   "source": [
    "insurance = pd.read_csv(\"insurance.csv\")"
   ]
  },
  {
   "cell_type": "code",
   "execution_count": 3,
   "metadata": {},
   "outputs": [
    {
     "data": {
      "text/html": [
       "<div>\n",
       "<style scoped>\n",
       "    .dataframe tbody tr th:only-of-type {\n",
       "        vertical-align: middle;\n",
       "    }\n",
       "\n",
       "    .dataframe tbody tr th {\n",
       "        vertical-align: top;\n",
       "    }\n",
       "\n",
       "    .dataframe thead th {\n",
       "        text-align: right;\n",
       "    }\n",
       "</style>\n",
       "<table border=\"1\" class=\"dataframe\">\n",
       "  <thead>\n",
       "    <tr style=\"text-align: right;\">\n",
       "      <th></th>\n",
       "      <th>age</th>\n",
       "      <th>sex</th>\n",
       "      <th>bmi</th>\n",
       "      <th>children</th>\n",
       "      <th>smoker</th>\n",
       "      <th>region</th>\n",
       "      <th>charges</th>\n",
       "    </tr>\n",
       "  </thead>\n",
       "  <tbody>\n",
       "    <tr>\n",
       "      <th>0</th>\n",
       "      <td>19</td>\n",
       "      <td>female</td>\n",
       "      <td>27.900</td>\n",
       "      <td>0</td>\n",
       "      <td>yes</td>\n",
       "      <td>southwest</td>\n",
       "      <td>16884.92400</td>\n",
       "    </tr>\n",
       "    <tr>\n",
       "      <th>1</th>\n",
       "      <td>18</td>\n",
       "      <td>male</td>\n",
       "      <td>33.770</td>\n",
       "      <td>1</td>\n",
       "      <td>no</td>\n",
       "      <td>southeast</td>\n",
       "      <td>1725.55230</td>\n",
       "    </tr>\n",
       "    <tr>\n",
       "      <th>2</th>\n",
       "      <td>28</td>\n",
       "      <td>male</td>\n",
       "      <td>33.000</td>\n",
       "      <td>3</td>\n",
       "      <td>no</td>\n",
       "      <td>southeast</td>\n",
       "      <td>4449.46200</td>\n",
       "    </tr>\n",
       "    <tr>\n",
       "      <th>3</th>\n",
       "      <td>33</td>\n",
       "      <td>male</td>\n",
       "      <td>22.705</td>\n",
       "      <td>0</td>\n",
       "      <td>no</td>\n",
       "      <td>northwest</td>\n",
       "      <td>21984.47061</td>\n",
       "    </tr>\n",
       "    <tr>\n",
       "      <th>4</th>\n",
       "      <td>32</td>\n",
       "      <td>male</td>\n",
       "      <td>28.880</td>\n",
       "      <td>0</td>\n",
       "      <td>no</td>\n",
       "      <td>northwest</td>\n",
       "      <td>3866.85520</td>\n",
       "    </tr>\n",
       "    <tr>\n",
       "      <th>...</th>\n",
       "      <td>...</td>\n",
       "      <td>...</td>\n",
       "      <td>...</td>\n",
       "      <td>...</td>\n",
       "      <td>...</td>\n",
       "      <td>...</td>\n",
       "      <td>...</td>\n",
       "    </tr>\n",
       "    <tr>\n",
       "      <th>1333</th>\n",
       "      <td>50</td>\n",
       "      <td>male</td>\n",
       "      <td>30.970</td>\n",
       "      <td>3</td>\n",
       "      <td>no</td>\n",
       "      <td>northwest</td>\n",
       "      <td>10600.54830</td>\n",
       "    </tr>\n",
       "    <tr>\n",
       "      <th>1334</th>\n",
       "      <td>18</td>\n",
       "      <td>female</td>\n",
       "      <td>31.920</td>\n",
       "      <td>0</td>\n",
       "      <td>no</td>\n",
       "      <td>northeast</td>\n",
       "      <td>2205.98080</td>\n",
       "    </tr>\n",
       "    <tr>\n",
       "      <th>1335</th>\n",
       "      <td>18</td>\n",
       "      <td>female</td>\n",
       "      <td>36.850</td>\n",
       "      <td>0</td>\n",
       "      <td>no</td>\n",
       "      <td>southeast</td>\n",
       "      <td>1629.83350</td>\n",
       "    </tr>\n",
       "    <tr>\n",
       "      <th>1336</th>\n",
       "      <td>21</td>\n",
       "      <td>female</td>\n",
       "      <td>25.800</td>\n",
       "      <td>0</td>\n",
       "      <td>no</td>\n",
       "      <td>southwest</td>\n",
       "      <td>2007.94500</td>\n",
       "    </tr>\n",
       "    <tr>\n",
       "      <th>1337</th>\n",
       "      <td>61</td>\n",
       "      <td>female</td>\n",
       "      <td>29.070</td>\n",
       "      <td>0</td>\n",
       "      <td>yes</td>\n",
       "      <td>northwest</td>\n",
       "      <td>29141.36030</td>\n",
       "    </tr>\n",
       "  </tbody>\n",
       "</table>\n",
       "<p>1338 rows × 7 columns</p>\n",
       "</div>"
      ],
      "text/plain": [
       "      age     sex     bmi  children smoker     region      charges\n",
       "0      19  female  27.900         0    yes  southwest  16884.92400\n",
       "1      18    male  33.770         1     no  southeast   1725.55230\n",
       "2      28    male  33.000         3     no  southeast   4449.46200\n",
       "3      33    male  22.705         0     no  northwest  21984.47061\n",
       "4      32    male  28.880         0     no  northwest   3866.85520\n",
       "...   ...     ...     ...       ...    ...        ...          ...\n",
       "1333   50    male  30.970         3     no  northwest  10600.54830\n",
       "1334   18  female  31.920         0     no  northeast   2205.98080\n",
       "1335   18  female  36.850         0     no  southeast   1629.83350\n",
       "1336   21  female  25.800         0     no  southwest   2007.94500\n",
       "1337   61  female  29.070         0    yes  northwest  29141.36030\n",
       "\n",
       "[1338 rows x 7 columns]"
      ]
     },
     "execution_count": 3,
     "metadata": {},
     "output_type": "execute_result"
    }
   ],
   "source": [
    "insurance"
   ]
  },
  {
   "cell_type": "code",
   "execution_count": 4,
   "metadata": {},
   "outputs": [
    {
     "name": "stdout",
     "output_type": "stream",
     "text": [
      "<class 'pandas.core.frame.DataFrame'>\n",
      "RangeIndex: 1338 entries, 0 to 1337\n",
      "Data columns (total 7 columns):\n",
      " #   Column    Non-Null Count  Dtype  \n",
      "---  ------    --------------  -----  \n",
      " 0   age       1338 non-null   int64  \n",
      " 1   sex       1338 non-null   object \n",
      " 2   bmi       1338 non-null   float64\n",
      " 3   children  1338 non-null   int64  \n",
      " 4   smoker    1338 non-null   object \n",
      " 5   region    1338 non-null   object \n",
      " 6   charges   1338 non-null   float64\n",
      "dtypes: float64(2), int64(2), object(3)\n",
      "memory usage: 73.3+ KB\n"
     ]
    }
   ],
   "source": [
    "insurance.info()"
   ]
  },
  {
   "cell_type": "code",
   "execution_count": 5,
   "metadata": {},
   "outputs": [
    {
     "data": {
      "text/html": [
       "<div>\n",
       "<style scoped>\n",
       "    .dataframe tbody tr th:only-of-type {\n",
       "        vertical-align: middle;\n",
       "    }\n",
       "\n",
       "    .dataframe tbody tr th {\n",
       "        vertical-align: top;\n",
       "    }\n",
       "\n",
       "    .dataframe thead th {\n",
       "        text-align: right;\n",
       "    }\n",
       "</style>\n",
       "<table border=\"1\" class=\"dataframe\">\n",
       "  <thead>\n",
       "    <tr style=\"text-align: right;\">\n",
       "      <th></th>\n",
       "      <th>min</th>\n",
       "      <th>max</th>\n",
       "    </tr>\n",
       "  </thead>\n",
       "  <tbody>\n",
       "    <tr>\n",
       "      <th>age</th>\n",
       "      <td>18</td>\n",
       "      <td>64</td>\n",
       "    </tr>\n",
       "    <tr>\n",
       "      <th>sex</th>\n",
       "      <td>female</td>\n",
       "      <td>male</td>\n",
       "    </tr>\n",
       "    <tr>\n",
       "      <th>bmi</th>\n",
       "      <td>15.96</td>\n",
       "      <td>53.13</td>\n",
       "    </tr>\n",
       "    <tr>\n",
       "      <th>children</th>\n",
       "      <td>0</td>\n",
       "      <td>5</td>\n",
       "    </tr>\n",
       "    <tr>\n",
       "      <th>smoker</th>\n",
       "      <td>no</td>\n",
       "      <td>yes</td>\n",
       "    </tr>\n",
       "    <tr>\n",
       "      <th>region</th>\n",
       "      <td>northeast</td>\n",
       "      <td>southwest</td>\n",
       "    </tr>\n",
       "    <tr>\n",
       "      <th>charges</th>\n",
       "      <td>1121.87</td>\n",
       "      <td>63770.4</td>\n",
       "    </tr>\n",
       "  </tbody>\n",
       "</table>\n",
       "</div>"
      ],
      "text/plain": [
       "                min        max\n",
       "age              18         64\n",
       "sex          female       male\n",
       "bmi           15.96      53.13\n",
       "children          0          5\n",
       "smoker           no        yes\n",
       "region    northeast  southwest\n",
       "charges     1121.87    63770.4"
      ]
     },
     "execution_count": 5,
     "metadata": {},
     "output_type": "execute_result"
    }
   ],
   "source": [
    "insurance.agg([min, max]).T"
   ]
  },
  {
   "cell_type": "code",
   "execution_count": 6,
   "metadata": {},
   "outputs": [
    {
     "data": {
      "text/html": [
       "<div>\n",
       "<style scoped>\n",
       "    .dataframe tbody tr th:only-of-type {\n",
       "        vertical-align: middle;\n",
       "    }\n",
       "\n",
       "    .dataframe tbody tr th {\n",
       "        vertical-align: top;\n",
       "    }\n",
       "\n",
       "    .dataframe thead th {\n",
       "        text-align: right;\n",
       "    }\n",
       "</style>\n",
       "<table border=\"1\" class=\"dataframe\">\n",
       "  <thead>\n",
       "    <tr style=\"text-align: right;\">\n",
       "      <th></th>\n",
       "      <th>age</th>\n",
       "      <th>bmi</th>\n",
       "      <th>children</th>\n",
       "      <th>charges</th>\n",
       "    </tr>\n",
       "  </thead>\n",
       "  <tbody>\n",
       "    <tr>\n",
       "      <th>count</th>\n",
       "      <td>1338.000000</td>\n",
       "      <td>1338.000000</td>\n",
       "      <td>1338.000000</td>\n",
       "      <td>1338.000000</td>\n",
       "    </tr>\n",
       "    <tr>\n",
       "      <th>mean</th>\n",
       "      <td>39.207025</td>\n",
       "      <td>30.663397</td>\n",
       "      <td>1.094918</td>\n",
       "      <td>13270.422265</td>\n",
       "    </tr>\n",
       "    <tr>\n",
       "      <th>std</th>\n",
       "      <td>14.049960</td>\n",
       "      <td>6.098187</td>\n",
       "      <td>1.205493</td>\n",
       "      <td>12110.011237</td>\n",
       "    </tr>\n",
       "    <tr>\n",
       "      <th>min</th>\n",
       "      <td>18.000000</td>\n",
       "      <td>15.960000</td>\n",
       "      <td>0.000000</td>\n",
       "      <td>1121.873900</td>\n",
       "    </tr>\n",
       "    <tr>\n",
       "      <th>25%</th>\n",
       "      <td>27.000000</td>\n",
       "      <td>26.296250</td>\n",
       "      <td>0.000000</td>\n",
       "      <td>4740.287150</td>\n",
       "    </tr>\n",
       "    <tr>\n",
       "      <th>50%</th>\n",
       "      <td>39.000000</td>\n",
       "      <td>30.400000</td>\n",
       "      <td>1.000000</td>\n",
       "      <td>9382.033000</td>\n",
       "    </tr>\n",
       "    <tr>\n",
       "      <th>75%</th>\n",
       "      <td>51.000000</td>\n",
       "      <td>34.693750</td>\n",
       "      <td>2.000000</td>\n",
       "      <td>16639.912515</td>\n",
       "    </tr>\n",
       "    <tr>\n",
       "      <th>max</th>\n",
       "      <td>64.000000</td>\n",
       "      <td>53.130000</td>\n",
       "      <td>5.000000</td>\n",
       "      <td>63770.428010</td>\n",
       "    </tr>\n",
       "  </tbody>\n",
       "</table>\n",
       "</div>"
      ],
      "text/plain": [
       "               age          bmi     children       charges\n",
       "count  1338.000000  1338.000000  1338.000000   1338.000000\n",
       "mean     39.207025    30.663397     1.094918  13270.422265\n",
       "std      14.049960     6.098187     1.205493  12110.011237\n",
       "min      18.000000    15.960000     0.000000   1121.873900\n",
       "25%      27.000000    26.296250     0.000000   4740.287150\n",
       "50%      39.000000    30.400000     1.000000   9382.033000\n",
       "75%      51.000000    34.693750     2.000000  16639.912515\n",
       "max      64.000000    53.130000     5.000000  63770.428010"
      ]
     },
     "execution_count": 6,
     "metadata": {},
     "output_type": "execute_result"
    }
   ],
   "source": [
    "insurance.describe()"
   ]
  },
  {
   "cell_type": "code",
   "execution_count": 7,
   "metadata": {},
   "outputs": [
    {
     "data": {
      "text/plain": [
       "<AxesSubplot:xlabel='age', ylabel='charges'>"
      ]
     },
     "execution_count": 7,
     "metadata": {},
     "output_type": "execute_result"
    },
    {
     "data": {
      "image/png": "[encoded data removed]",
      "text/plain": [
       "<Figure size 432x288 with 1 Axes>"
      ]
     },
     "metadata": {
      "needs_background": "light"
     },
     "output_type": "display_data"
    }
   ],
   "source": [
    "insurance.plot(kind = \"scatter\", x = 'age', y = 'charges')"
   ]
  },
  {
   "cell_type": "code",
   "execution_count": 8,
   "metadata": {},
   "outputs": [
    {
     "data": {
      "text/plain": [
       "<AxesSubplot:xlabel='bmi', ylabel='charges'>"
      ]
     },
     "execution_count": 8,
     "metadata": {},
     "output_type": "execute_result"
    },
    {
     "data": {
      "image/png": "[encoded data removed]",
      "text/plain": [
       "<Figure size 432x288 with 1 Axes>"
      ]
     },
     "metadata": {
      "needs_background": "light"
     },
     "output_type": "display_data"
    }
   ],
   "source": [
    "insurance.plot(kind = \"scatter\", x = 'bmi', y = 'charges')"
   ]
  },
  {
   "cell_type": "code",
   "execution_count": 9,
   "metadata": {},
   "outputs": [
    {
     "data": {
      "text/plain": [
       "<AxesSubplot:xlabel='children', ylabel='charges'>"
      ]
     },
     "execution_count": 9,
     "metadata": {},
     "output_type": "execute_result"
    },
    {
     "data": {
      "image/png": "[encoded data removed]",
      "text/plain": [
       "<Figure size 432x288 with 1 Axes>"
      ]
     },
     "metadata": {
      "needs_background": "light"
     },
     "output_type": "display_data"
    }
   ],
   "source": [
    "insurance.plot(kind = \"scatter\", x = 'children', y = 'charges')"
   ]
  },
  {
   "cell_type": "code",
   "execution_count": 10,
   "metadata": {},
   "outputs": [
    {
     "data": {
      "text/plain": [
       "<AxesSubplot:>"
      ]
     },
     "execution_count": 10,
     "metadata": {},
     "output_type": "execute_result"
    },
    {
     "data": {
      "image/png": "[encoded data removed]",
      "text/plain": [
       "<Figure size 432x288 with 1 Axes>"
      ]
     },
     "metadata": {
      "needs_background": "light"
     },
     "output_type": "display_data"
    }
   ],
   "source": [
    "insurance.boxplot(grid = False, vert = False, fontsize = 8)"
   ]
  },
  {
   "cell_type": "code",
   "execution_count": 11,
   "metadata": {},
   "outputs": [
    {
     "data": {
      "text/plain": [
       "male      676\n",
       "female    662\n",
       "Name: sex, dtype: int64"
      ]
     },
     "execution_count": 11,
     "metadata": {},
     "output_type": "execute_result"
    }
   ],
   "source": [
    "insurance['sex'].value_counts()"
   ]
  },
  {
   "cell_type": "code",
   "execution_count": 12,
   "metadata": {},
   "outputs": [
    {
     "data": {
      "text/plain": [
       "no     1064\n",
       "yes     274\n",
       "Name: smoker, dtype: int64"
      ]
     },
     "execution_count": 12,
     "metadata": {},
     "output_type": "execute_result"
    }
   ],
   "source": [
    "insurance['smoker'].value_counts()"
   ]
  },
  {
   "cell_type": "code",
   "execution_count": 13,
   "metadata": {},
   "outputs": [
    {
     "data": {
      "text/plain": [
       "southeast    364\n",
       "northwest    325\n",
       "southwest    325\n",
       "northeast    324\n",
       "Name: region, dtype: int64"
      ]
     },
     "execution_count": 13,
     "metadata": {},
     "output_type": "execute_result"
    }
   ],
   "source": [
    "insurance['region'].value_counts()"
   ]
  },
  {
   "cell_type": "code",
   "execution_count": 14,
   "metadata": {},
   "outputs": [
    {
     "data": {
      "text/plain": [
       "<AxesSubplot:xlabel='charges'>"
      ]
     },
     "execution_count": 14,
     "metadata": {},
     "output_type": "execute_result"
    },
    {
     "data": {
      "image/png": "[encoded data removed]",
      "text/plain": [
       "<Figure size 432x288 with 1 Axes>"
      ]
     },
     "metadata": {
      "needs_background": "light"
     },
     "output_type": "display_data"
    }
   ],
   "source": [
    "sns.boxplot(x = insurance['charges'])"
   ]
  },
  {
   "cell_type": "code",
   "execution_count": 15,
   "metadata": {},
   "outputs": [
    {
     "data": {
      "text/html": [
       "<div>\n",
       "<style scoped>\n",
       "    .dataframe tbody tr th:only-of-type {\n",
       "        vertical-align: middle;\n",
       "    }\n",
       "\n",
       "    .dataframe tbody tr th {\n",
       "        vertical-align: top;\n",
       "    }\n",
       "\n",
       "    .dataframe thead th {\n",
       "        text-align: right;\n",
       "    }\n",
       "</style>\n",
       "<table border=\"1\" class=\"dataframe\">\n",
       "  <thead>\n",
       "    <tr style=\"text-align: right;\">\n",
       "      <th></th>\n",
       "      <th>age</th>\n",
       "      <th>bmi</th>\n",
       "      <th>children</th>\n",
       "      <th>charges</th>\n",
       "    </tr>\n",
       "    <tr>\n",
       "      <th>region</th>\n",
       "      <th></th>\n",
       "      <th></th>\n",
       "      <th></th>\n",
       "      <th></th>\n",
       "    </tr>\n",
       "  </thead>\n",
       "  <tbody>\n",
       "    <tr>\n",
       "      <th>northeast</th>\n",
       "      <td>39.268519</td>\n",
       "      <td>29.173503</td>\n",
       "      <td>1.046296</td>\n",
       "      <td>13406.384516</td>\n",
       "    </tr>\n",
       "    <tr>\n",
       "      <th>northwest</th>\n",
       "      <td>39.196923</td>\n",
       "      <td>29.199785</td>\n",
       "      <td>1.147692</td>\n",
       "      <td>12417.575374</td>\n",
       "    </tr>\n",
       "    <tr>\n",
       "      <th>southeast</th>\n",
       "      <td>38.939560</td>\n",
       "      <td>33.355989</td>\n",
       "      <td>1.049451</td>\n",
       "      <td>14735.411438</td>\n",
       "    </tr>\n",
       "    <tr>\n",
       "      <th>southwest</th>\n",
       "      <td>39.455385</td>\n",
       "      <td>30.596615</td>\n",
       "      <td>1.141538</td>\n",
       "      <td>12346.937377</td>\n",
       "    </tr>\n",
       "  </tbody>\n",
       "</table>\n",
       "</div>"
      ],
      "text/plain": [
       "                 age        bmi  children       charges\n",
       "region                                                 \n",
       "northeast  39.268519  29.173503  1.046296  13406.384516\n",
       "northwest  39.196923  29.199785  1.147692  12417.575374\n",
       "southeast  38.939560  33.355989  1.049451  14735.411438\n",
       "southwest  39.455385  30.596615  1.141538  12346.937377"
      ]
     },
     "execution_count": 15,
     "metadata": {},
     "output_type": "execute_result"
    }
   ],
   "source": [
    "insurance.groupby('region').mean()"
   ]
  },
  {
   "cell_type": "code",
   "execution_count": 16,
   "metadata": {},
   "outputs": [
    {
     "data": {
      "text/html": [
       "<div>\n",
       "<style scoped>\n",
       "    .dataframe tbody tr th:only-of-type {\n",
       "        vertical-align: middle;\n",
       "    }\n",
       "\n",
       "    .dataframe tbody tr th {\n",
       "        vertical-align: top;\n",
       "    }\n",
       "\n",
       "    .dataframe thead th {\n",
       "        text-align: right;\n",
       "    }\n",
       "</style>\n",
       "<table border=\"1\" class=\"dataframe\">\n",
       "  <thead>\n",
       "    <tr style=\"text-align: right;\">\n",
       "      <th></th>\n",
       "      <th>age</th>\n",
       "      <th>bmi</th>\n",
       "      <th>children</th>\n",
       "      <th>charges</th>\n",
       "    </tr>\n",
       "    <tr>\n",
       "      <th>sex</th>\n",
       "      <th></th>\n",
       "      <th></th>\n",
       "      <th></th>\n",
       "      <th></th>\n",
       "    </tr>\n",
       "  </thead>\n",
       "  <tbody>\n",
       "    <tr>\n",
       "      <th>female</th>\n",
       "      <td>39.503021</td>\n",
       "      <td>30.377749</td>\n",
       "      <td>1.074018</td>\n",
       "      <td>12569.578844</td>\n",
       "    </tr>\n",
       "    <tr>\n",
       "      <th>male</th>\n",
       "      <td>38.917160</td>\n",
       "      <td>30.943129</td>\n",
       "      <td>1.115385</td>\n",
       "      <td>13956.751178</td>\n",
       "    </tr>\n",
       "  </tbody>\n",
       "</table>\n",
       "</div>"
      ],
      "text/plain": [
       "              age        bmi  children       charges\n",
       "sex                                                 \n",
       "female  39.503021  30.377749  1.074018  12569.578844\n",
       "male    38.917160  30.943129  1.115385  13956.751178"
      ]
     },
     "execution_count": 16,
     "metadata": {},
     "output_type": "execute_result"
    }
   ],
   "source": [
    "insurance.groupby('sex').mean()"
   ]
  },
  {
   "cell_type": "code",
   "execution_count": 17,
   "metadata": {},
   "outputs": [
    {
     "data": {
      "text/html": [
       "<div>\n",
       "<style scoped>\n",
       "    .dataframe tbody tr th:only-of-type {\n",
       "        vertical-align: middle;\n",
       "    }\n",
       "\n",
       "    .dataframe tbody tr th {\n",
       "        vertical-align: top;\n",
       "    }\n",
       "\n",
       "    .dataframe thead th {\n",
       "        text-align: right;\n",
       "    }\n",
       "</style>\n",
       "<table border=\"1\" class=\"dataframe\">\n",
       "  <thead>\n",
       "    <tr style=\"text-align: right;\">\n",
       "      <th></th>\n",
       "      <th>age</th>\n",
       "      <th>bmi</th>\n",
       "      <th>children</th>\n",
       "      <th>charges</th>\n",
       "    </tr>\n",
       "    <tr>\n",
       "      <th>smoker</th>\n",
       "      <th></th>\n",
       "      <th></th>\n",
       "      <th></th>\n",
       "      <th></th>\n",
       "    </tr>\n",
       "  </thead>\n",
       "  <tbody>\n",
       "    <tr>\n",
       "      <th>no</th>\n",
       "      <td>39.385338</td>\n",
       "      <td>30.651795</td>\n",
       "      <td>1.090226</td>\n",
       "      <td>8434.268298</td>\n",
       "    </tr>\n",
       "    <tr>\n",
       "      <th>yes</th>\n",
       "      <td>38.514599</td>\n",
       "      <td>30.708449</td>\n",
       "      <td>1.113139</td>\n",
       "      <td>32050.231832</td>\n",
       "    </tr>\n",
       "  </tbody>\n",
       "</table>\n",
       "</div>"
      ],
      "text/plain": [
       "              age        bmi  children       charges\n",
       "smoker                                              \n",
       "no      39.385338  30.651795  1.090226   8434.268298\n",
       "yes     38.514599  30.708449  1.113139  32050.231832"
      ]
     },
     "execution_count": 17,
     "metadata": {},
     "output_type": "execute_result"
    }
   ],
   "source": [
    "insurance.groupby('smoker').mean()"
   ]
  },
  {
   "cell_type": "code",
   "execution_count": 18,
   "metadata": {},
   "outputs": [
    {
     "data": {
      "text/plain": [
       "<AxesSubplot:>"
      ]
     },
     "execution_count": 18,
     "metadata": {},
     "output_type": "execute_result"
    },
    {
     "data": {
      "image/png": "[encoded data removed]",
      "text/plain": [
       "<Figure size 432x288 with 1 Axes>"
      ]
     },
     "metadata": {
      "needs_background": "light"
     },
     "output_type": "display_data"
    }
   ],
   "source": [
    "sns.distplot(insurance[['charges']])"
   ]
  },
  {
   "cell_type": "code",
   "execution_count": 7,
   "metadata": {},
   "outputs": [
    {
     "data": {
      "text/plain": [
       "[<matplotlib.lines.Line2D at 0x1a2bdf46ac8>]"
      ]
     },
     "execution_count": 7,
     "metadata": {},
     "output_type": "execute_result"
    },
    {
     "data": {
      "image/png": "[encoded data removed]",
      "text/plain": [
       "<Figure size 432x288 with 1 Axes>"
      ]
     },
     "metadata": {
      "needs_background": "light"
     },
     "output_type": "display_data"
    }
   ],
   "source": [
    "plt.plot(insurance['age'].values, insurance['charges'], 'b.')"
   ]
  },
  {
   "cell_type": "code",
   "execution_count": 8,
   "metadata": {},
   "outputs": [],
   "source": [
    "rng = np.random.default_rng()"
   ]
  },
  {
   "cell_type": "code",
   "execution_count": 10,
   "metadata": {},
   "outputs": [],
   "source": [
    "train_ind = rng.choice(insurance.index, round(len(insurance)*0.6))\n",
    "train_set = insurance.iloc[train_ind]"
   ]
  },
  {
   "cell_type": "code",
   "execution_count": 11,
   "metadata": {},
   "outputs": [],
   "source": [
    "X_num = train_set[['age','bmi','children']].values\n",
    "X_cat = train_set[['sex','smoker','region']].values"
   ]
  },
  {
   "cell_type": "code",
   "execution_count": 12,
   "metadata": {},
   "outputs": [],
   "source": [
    "y = train_set['charges'].values"
   ]
  },
  {
   "cell_type": "code",
   "execution_count": 16,
   "metadata": {},
   "outputs": [
    {
     "data": {
      "text/plain": [
       "LinearRegression(copy_X=True, fit_intercept=True, n_jobs=None, normalize=False)"
      ]
     },
     "execution_count": 16,
     "metadata": {},
     "output_type": "execute_result"
    }
   ],
   "source": [
    "model = linear_model.LinearRegression()\n",
    "model.fit(X_num, y)"
   ]
  },
  {
   "cell_type": "code",
   "execution_count": 17,
   "metadata": {},
   "outputs": [],
   "source": [
    "cat_encoder = preprocessing.OneHotEncoder()"
   ]
  },
  {
   "cell_type": "code",
   "execution_count": 18,
   "metadata": {},
   "outputs": [
    {
     "data": {
      "text/plain": [
       "OneHotEncoder(categories='auto', drop=None, dtype=<class 'numpy.float64'>,\n",
       "              handle_unknown='error', sparse=True)"
      ]
     },
     "execution_count": 18,
     "metadata": {},
     "output_type": "execute_result"
    }
   ],
   "source": [
    "cat_encoder.fit(X_cat)"
   ]
  },
  {
   "cell_type": "code",
   "execution_count": 19,
   "metadata": {},
   "outputs": [],
   "source": [
    "X_cat_2 = cat_encoder.transform(X_cat).toarray()"
   ]
  },
  {
   "cell_type": "code",
   "execution_count": 20,
   "metadata": {},
   "outputs": [],
   "source": [
    "model2 = linear_model.LinearRegression()"
   ]
  },
  {
   "cell_type": "code",
   "execution_count": 21,
   "metadata": {},
   "outputs": [
    {
     "data": {
      "text/plain": [
       "LinearRegression(copy_X=True, fit_intercept=True, n_jobs=None, normalize=False)"
      ]
     },
     "execution_count": 21,
     "metadata": {},
     "output_type": "execute_result"
    }
   ],
   "source": [
    "model2.fit(X_cat_2, y)"
   ]
  },
  {
   "cell_type": "code",
   "execution_count": 22,
   "metadata": {},
   "outputs": [
    {
     "name": "stdout",
     "output_type": "stream",
     "text": [
      "[ 9299.19750183 32323.21029151  9299.19750183  9155.42959675\n",
      "  9155.42959675  9155.42959675  8252.8484701   8252.8484701\n",
      "  8679.16743927  8109.08056503  8679.16743927 32799.472449\n",
      " 31324.78986836  8535.39953419  8109.08056503  7536.97911105\n",
      "  8679.16743927  7536.97911105  9299.19750183 31324.78986836\n",
      "  9299.19750183  9299.19750183  8679.16743927  8109.08056503\n",
      "  8252.8484701   7680.74701612  8535.39953419  7536.97911105\n",
      "  7680.74701612  8252.8484701   8252.8484701   9155.42959675\n",
      "  8679.16743927  8109.08056503  8109.08056503  8252.8484701\n",
      "  9155.42959675  8109.08056503  9155.42959675  7536.97911105\n",
      "  8252.8484701  32799.472449   31181.02196329  8679.16743927\n",
      "  8109.08056503  9299.19750183  8109.08056503 32799.472449\n",
      "  8252.8484701   7680.74701612  8109.08056503  9299.19750183\n",
      "  7536.97911105  9155.42959675  8252.8484701   8679.16743927\n",
      "  8679.16743927  8535.39953419  7536.97911105  9299.19750183\n",
      "  8679.16743927  8109.08056503  8109.08056503  8109.08056503\n",
      "  7536.97911105  7536.97911105  8252.8484701   8679.16743927\n",
      "  9299.19750183  8109.08056503  8679.16743927  9299.19750183\n",
      "  9299.19750183  8679.16743927 31324.78986836  8252.8484701\n",
      "  8109.08056503 31181.02196329 31181.02196329 31753.12341727\n",
      "  9155.42959675  9299.19750183  8679.16743927  8679.16743927\n",
      "  8679.16743927  9299.19750183  9155.42959675  9299.19750183\n",
      "  9299.19750183  8535.39953419  8535.39953419 31753.12341727\n",
      "  8109.08056503 32799.472449    7680.74701612 32323.21029151\n",
      "  8109.08056503  9155.42959675  9155.42959675  9299.19750183\n",
      " 31181.02196329  9299.19750183  7536.97911105  8679.16743927\n",
      " 31753.12341727  8252.8484701   8109.08056503  7680.74701612\n",
      " 32323.21029151  8109.08056503 31753.12341727 31896.89132234\n",
      "  9299.19750183  8679.16743927  8109.08056503  8109.08056503\n",
      " 31753.12341727  8679.16743927  8109.08056503  8535.39953419\n",
      "  9155.42959675  7680.74701612  8252.8484701  32179.44238644\n",
      "  8535.39953419 32799.472449    7680.74701612 31324.78986836\n",
      "  8252.8484701   9155.42959675  7680.74701612  8535.39953419\n",
      "  7536.97911105  7536.97911105  8535.39953419 32323.21029151\n",
      "  7536.97911105  8535.39953419  8679.16743927  8109.08056503\n",
      "  9299.19750183  8252.8484701   9299.19750183  7536.97911105\n",
      " 31753.12341727  8535.39953419 32179.44238644  7680.74701612\n",
      "  8109.08056503  9155.42959675  9299.19750183  8679.16743927\n",
      "  8252.8484701   8535.39953419  7680.74701612 31324.78986836\n",
      " 32323.21029151  9155.42959675  8109.08056503  8109.08056503\n",
      " 32323.21029151  8109.08056503  7680.74701612  8252.8484701\n",
      " 32943.24035407  9155.42959675  8679.16743927  9299.19750183\n",
      "  8679.16743927  8252.8484701   7680.74701612  7680.74701612\n",
      "  7680.74701612  7536.97911105  8109.08056503  7680.74701612\n",
      "  9299.19750183  8535.39953419 32323.21029151  9155.42959675\n",
      " 31753.12341727  8109.08056503  9299.19750183  8109.08056503\n",
      "  9155.42959675  8109.08056503  8109.08056503  8252.8484701\n",
      "  8109.08056503  8252.8484701   7680.74701612  7680.74701612\n",
      "  7680.74701612  7680.74701612  8252.8484701   8252.8484701\n",
      "  8679.16743927 32799.472449    8679.16743927  8535.39953419\n",
      "  9155.42959675  7680.74701612  8252.8484701   7680.74701612\n",
      "  9299.19750183  8252.8484701   9155.42959675  9155.42959675\n",
      "  9299.19750183  8252.8484701   8679.16743927  7536.97911105\n",
      "  8535.39953419  7680.74701612 32179.44238644 32799.472449\n",
      "  9155.42959675  9155.42959675  8109.08056503  7680.74701612\n",
      " 32943.24035407  7536.97911105  9299.19750183  7680.74701612\n",
      "  8252.8484701   8109.08056503  7536.97911105  8109.08056503\n",
      " 31181.02196329 31181.02196329  9299.19750183  9299.19750183\n",
      "  8252.8484701   9299.19750183  8535.39953419  7680.74701612\n",
      " 31181.02196329  7680.74701612  8535.39953419 32179.44238644\n",
      "  9299.19750183  9299.19750183  8535.39953419 31896.89132234\n",
      "  7680.74701612  9155.42959675  8679.16743927  9299.19750183\n",
      "  8535.39953419  9155.42959675 32943.24035407  9155.42959675\n",
      "  9155.42959675  8252.8484701   8535.39953419  8679.16743927\n",
      " 32179.44238644  9155.42959675  7536.97911105  8109.08056503\n",
      " 32943.24035407  9155.42959675  8109.08056503  9299.19750183\n",
      "  8535.39953419  8252.8484701  32943.24035407 31324.78986836\n",
      "  9155.42959675  7536.97911105  8109.08056503  7680.74701612\n",
      "  8535.39953419  9299.19750183  7680.74701612 31753.12341727\n",
      "  7536.97911105 31896.89132234 31896.89132234  8679.16743927\n",
      "  9155.42959675  9155.42959675  8252.8484701   9299.19750183\n",
      "  7536.97911105  7536.97911105  9155.42959675  8679.16743927\n",
      "  8535.39953419  7680.74701612  8252.8484701   9155.42959675\n",
      "  8535.39953419  9155.42959675  8679.16743927  7680.74701612\n",
      "  8252.8484701   8109.08056503  7680.74701612  8535.39953419\n",
      "  8109.08056503  8535.39953419 31181.02196329 31324.78986836\n",
      "  8109.08056503  7536.97911105  8109.08056503  7536.97911105\n",
      "  7680.74701612  8679.16743927  7536.97911105 31753.12341727\n",
      "  9299.19750183  9299.19750183  8535.39953419  8109.08056503\n",
      "  8109.08056503  8252.8484701   8679.16743927  8252.8484701\n",
      "  8679.16743927  8679.16743927  7680.74701612  8679.16743927\n",
      "  8252.8484701   9155.42959675  8252.8484701   8109.08056503\n",
      " 32323.21029151  8679.16743927  8252.8484701   7536.97911105\n",
      "  8535.39953419  7536.97911105  7680.74701612 32179.44238644\n",
      "  9299.19750183  9155.42959675  8535.39953419  7680.74701612\n",
      "  7536.97911105  8252.8484701   9155.42959675  7536.97911105\n",
      " 31181.02196329  7680.74701612  9155.42959675  8252.8484701\n",
      "  8679.16743927  9155.42959675  9155.42959675  7536.97911105\n",
      "  7680.74701612  8109.08056503  8109.08056503  8679.16743927\n",
      "  7536.97911105  8535.39953419  8535.39953419  8535.39953419\n",
      "  8679.16743927  8109.08056503 32323.21029151  8535.39953419\n",
      "  9155.42959675  9299.19750183  9299.19750183  8535.39953419\n",
      " 32799.472449    8679.16743927 32799.472449    8679.16743927\n",
      "  8109.08056503 31753.12341727  8535.39953419  8109.08056503\n",
      "  8679.16743927  9155.42959675  8109.08056503  8679.16743927\n",
      "  8252.8484701   9299.19750183 32799.472449   32323.21029151\n",
      "  9299.19750183  8679.16743927  9299.19750183 31181.02196329\n",
      "  8679.16743927  7680.74701612  9299.19750183  8252.8484701\n",
      "  8535.39953419  8109.08056503  7536.97911105  9299.19750183\n",
      "  7680.74701612  9155.42959675 32179.44238644 32179.44238644\n",
      " 32943.24035407  8679.16743927  8252.8484701  31324.78986836\n",
      "  9299.19750183 31181.02196329  8252.8484701   8535.39953419\n",
      "  8679.16743927  8679.16743927  8109.08056503  7536.97911105\n",
      "  8252.8484701   8535.39953419  8109.08056503  8109.08056503\n",
      "  8109.08056503 32179.44238644  8679.16743927 31896.89132234\n",
      "  9299.19750183 32323.21029151  8109.08056503 31181.02196329\n",
      "  8109.08056503 32799.472449   32799.472449   32799.472449\n",
      "  7536.97911105  8679.16743927  9155.42959675  8252.8484701\n",
      "  9299.19750183  8679.16743927 32323.21029151 32323.21029151\n",
      "  9299.19750183  8679.16743927  8109.08056503  8535.39953419\n",
      "  8679.16743927  9299.19750183  7536.97911105  8535.39953419\n",
      "  9155.42959675  8109.08056503  7680.74701612  7680.74701612\n",
      "  7536.97911105  7536.97911105 31896.89132234  7680.74701612\n",
      "  8535.39953419  7680.74701612  9299.19750183 31753.12341727\n",
      "  7680.74701612 32799.472449    8679.16743927  8535.39953419\n",
      " 32799.472449    7536.97911105  8252.8484701  32943.24035407\n",
      "  8535.39953419 31181.02196329  7536.97911105 32799.472449\n",
      " 31753.12341727  9155.42959675 31181.02196329  8535.39953419\n",
      "  8679.16743927  8679.16743927  8109.08056503 31896.89132234\n",
      " 32179.44238644  8109.08056503  7536.97911105  8252.8484701\n",
      "  9299.19750183  7680.74701612  7536.97911105  9299.19750183\n",
      "  7680.74701612  8535.39953419  7536.97911105  8252.8484701\n",
      " 32943.24035407  7536.97911105 31753.12341727  7536.97911105\n",
      "  8252.8484701   8252.8484701   9155.42959675  7536.97911105\n",
      "  8679.16743927 32179.44238644  8109.08056503 31181.02196329\n",
      " 31181.02196329  9155.42959675  9299.19750183  8252.8484701\n",
      "  8252.8484701   8109.08056503 32799.472449    7680.74701612\n",
      "  8109.08056503 31324.78986836  8252.8484701   7680.74701612\n",
      " 32323.21029151 32179.44238644  8535.39953419  7680.74701612\n",
      "  7536.97911105 31896.89132234  8535.39953419  8679.16743927\n",
      " 31753.12341727 32799.472449    8535.39953419  9155.42959675\n",
      " 32799.472449    8535.39953419  9155.42959675 31753.12341727\n",
      "  8535.39953419  8252.8484701   9299.19750183  7680.74701612\n",
      "  9155.42959675  7536.97911105  9299.19750183 31181.02196329\n",
      "  8535.39953419  7680.74701612  7536.97911105  9155.42959675\n",
      "  7536.97911105  8109.08056503  8252.8484701   8679.16743927\n",
      " 31753.12341727  7680.74701612 32179.44238644 31753.12341727\n",
      "  8679.16743927  9155.42959675  9299.19750183  8679.16743927\n",
      "  8679.16743927 31181.02196329  9155.42959675  9299.19750183\n",
      "  8252.8484701  32799.472449    8252.8484701  32943.24035407\n",
      "  9299.19750183  9299.19750183  7680.74701612 31181.02196329\n",
      "  8535.39953419 32179.44238644  8535.39953419  9155.42959675\n",
      "  8252.8484701   8679.16743927  7680.74701612  9155.42959675\n",
      "  8252.8484701   9299.19750183 32799.472449   31181.02196329\n",
      "  9299.19750183  7536.97911105  9299.19750183  9155.42959675\n",
      "  9155.42959675  8535.39953419  8252.8484701   8535.39953419\n",
      "  8535.39953419  7680.74701612 31181.02196329  8109.08056503\n",
      "  8252.8484701   8535.39953419  7680.74701612  8535.39953419\n",
      "  8679.16743927  8679.16743927  8535.39953419  8535.39953419\n",
      "  9299.19750183  9299.19750183 32799.472449    7536.97911105\n",
      "  8109.08056503  8109.08056503 32179.44238644  8252.8484701\n",
      "  8109.08056503  8109.08056503 31324.78986836  8679.16743927\n",
      "  7680.74701612  8535.39953419  8535.39953419  7680.74701612\n",
      " 32323.21029151  8109.08056503  8679.16743927 31896.89132234\n",
      "  9299.19750183  7536.97911105  8679.16743927  7680.74701612\n",
      "  8252.8484701   9155.42959675 31181.02196329  8109.08056503\n",
      "  8252.8484701   8679.16743927  9299.19750183  7680.74701612\n",
      "  9155.42959675  7536.97911105  9299.19750183  8535.39953419\n",
      "  8535.39953419  7536.97911105  8252.8484701   7680.74701612\n",
      "  8679.16743927  8109.08056503  9299.19750183  7536.97911105\n",
      "  7680.74701612  8535.39953419  9299.19750183  7536.97911105\n",
      "  8252.8484701   9299.19750183  7680.74701612  8252.8484701\n",
      "  7536.97911105  7680.74701612  9155.42959675  9155.42959675\n",
      "  8679.16743927  7536.97911105  9299.19750183  8679.16743927\n",
      "  8109.08056503  8535.39953419  9299.19750183  8679.16743927\n",
      "  8252.8484701   8679.16743927  9155.42959675  8679.16743927\n",
      "  8109.08056503  8252.8484701  32799.472449    9155.42959675\n",
      " 32943.24035407  8109.08056503  7680.74701612  7680.74701612\n",
      " 31181.02196329  8535.39953419  8252.8484701   8679.16743927\n",
      " 31753.12341727  8535.39953419  8679.16743927  7680.74701612\n",
      "  7680.74701612  8109.08056503 32799.472449    7680.74701612\n",
      "  9299.19750183  8252.8484701   7680.74701612  7680.74701612\n",
      "  8535.39953419  8535.39953419  7536.97911105  8252.8484701\n",
      "  7536.97911105 32799.472449    9155.42959675 32179.44238644\n",
      "  9299.19750183 32799.472449    8109.08056503 31896.89132234\n",
      "  8679.16743927 32323.21029151  8679.16743927  8252.8484701\n",
      "  7536.97911105 32943.24035407  8109.08056503  8679.16743927\n",
      "  9299.19750183  8535.39953419  8679.16743927  8252.8484701\n",
      "  8109.08056503  9155.42959675  8252.8484701   9155.42959675\n",
      "  9299.19750183  7680.74701612  9155.42959675  8535.39953419\n",
      "  9299.19750183  8109.08056503  8252.8484701   9299.19750183\n",
      " 31324.78986836 32943.24035407  8109.08056503  9155.42959675\n",
      " 31181.02196329  8679.16743927  8535.39953419  9299.19750183\n",
      "  7536.97911105  9155.42959675  8252.8484701   8535.39953419\n",
      "  8252.8484701  32323.21029151  8679.16743927  8535.39953419\n",
      "  9299.19750183 31324.78986836  9299.19750183  8535.39953419\n",
      "  7680.74701612  7536.97911105  9299.19750183  9299.19750183\n",
      "  9299.19750183  8252.8484701   8679.16743927  9299.19750183\n",
      "  7536.97911105  8679.16743927  9299.19750183  8535.39953419\n",
      "  7536.97911105  8109.08056503  7680.74701612 32799.472449\n",
      "  9299.19750183  8535.39953419  7536.97911105  8252.8484701\n",
      " 32799.472449    8252.8484701   9299.19750183  7536.97911105\n",
      "  8109.08056503  9299.19750183  8109.08056503  7536.97911105\n",
      " 32179.44238644  8535.39953419  7680.74701612  9155.42959675\n",
      "  8679.16743927 31324.78986836  7680.74701612  9155.42959675\n",
      "  8679.16743927  7680.74701612  8252.8484701   9155.42959675\n",
      "  8252.8484701   7680.74701612  7536.97911105  9155.42959675\n",
      "  8535.39953419  7536.97911105  9299.19750183  8679.16743927\n",
      "  7680.74701612  8535.39953419 32799.472449    8679.16743927\n",
      "  7680.74701612  8109.08056503 31181.02196329  9299.19750183\n",
      "  8252.8484701   9299.19750183  9299.19750183]\n"
     ]
    }
   ],
   "source": [
    "print(model2.predict(X_cat_2))"
   ]
  },
  {
   "cell_type": "code",
   "execution_count": 23,
   "metadata": {},
   "outputs": [
    {
     "data": {
      "text/plain": [
       "array([[1., 0., 1., 0., 0., 0., 1., 0.],\n",
       "       [1., 0., 0., 1., 1., 0., 0., 0.],\n",
       "       [1., 0., 1., 0., 0., 0., 1., 0.],\n",
       "       [0., 1., 1., 0., 0., 0., 1., 0.],\n",
       "       [0., 1., 1., 0., 0., 0., 1., 0.]])"
      ]
     },
     "execution_count": 23,
     "metadata": {},
     "output_type": "execute_result"
    }
   ],
   "source": [
    "X_cat_2[0:5,:]"
   ]
  },
  {
   "cell_type": "code",
   "execution_count": 24,
   "metadata": {},
   "outputs": [
    {
     "data": {
      "text/plain": [
       "[array(['female', 'male'], dtype=object),\n",
       " array(['no', 'yes'], dtype=object),\n",
       " array(['northeast', 'northwest', 'southeast', 'southwest'], dtype=object)]"
      ]
     },
     "execution_count": 24,
     "metadata": {},
     "output_type": "execute_result"
    }
   ],
   "source": [
    "cat_encoder.categories_"
   ]
  },
  {
   "cell_type": "code",
   "execution_count": 25,
   "metadata": {},
   "outputs": [
    {
     "data": {
      "text/plain": [
       "LinearRegression(copy_X=True, fit_intercept=True, n_jobs=None, normalize=False)"
      ]
     },
     "execution_count": 25,
     "metadata": {},
     "output_type": "execute_result"
    }
   ],
   "source": [
    "X_re = np.concatenate([X_num,X_cat_2],axis=1)\n",
    "\n",
    "model_re = linear_model.LinearRegression()\n",
    "\n",
    "model_re.fit(X_re, y)"
   ]
  },
  {
   "cell_type": "code",
   "execution_count": 26,
   "metadata": {},
   "outputs": [
    {
     "data": {
      "text/plain": [
       "array([12862.98578155, 31501.33667268,  7269.75515512,  6836.03881246,\n",
       "        8897.03357019,  9029.3645285 , 12338.05456311,  3532.16184246,\n",
       "        9931.21007987,  2236.5111201 , 12368.43553231, 34516.79069151,\n",
       "       32558.68609373, 15620.09379661,  6392.18419529, 11782.6936503 ,\n",
       "        7987.25834802,  8582.4294476 ,  9728.62191246, 29450.43456523,\n",
       "        7635.09656018,  7462.75735471, 10401.39008024, 11842.61509194,\n",
       "        9493.27578959,  8314.68490746, 15434.04954534,    54.1275345 ,\n",
       "       12253.6579622 ,  5325.89918156, 11643.25708973, 16344.19796413,\n",
       "        6595.14969544, 12403.49120896,  5899.05644407,  5332.12657475,\n",
       "       10729.42711076,  4406.92646528,  6067.1215026 , 13599.19657444,\n",
       "        2814.93821436, 31181.96436013, 26430.32908107, 12084.2997832 ,\n",
       "        8310.0797731 ,  7152.36400397,  2236.5111201 , 37961.3276572 ,\n",
       "        7758.98362535,  3671.87052169,  3879.001461  , 17056.85716003,\n",
       "       13603.27388513,  9371.17359692, 11413.01750771,  7162.91018434,\n",
       "       10760.07487897, 11800.44970802, 14021.62482118,  7955.14514752,\n",
       "       11369.80893152,  6752.79882239,  2236.5111201 ,  2530.56654304,\n",
       "        2907.18950885,  7201.19198645,  7921.55852962,  7533.0688585 ,\n",
       "       10550.96856318,  8618.86344402, 11322.65116694,  7539.68425238,\n",
       "       10740.22229558,  2978.7295306 , 28643.86804972,  6567.3555333 ,\n",
       "        3759.14078712, 31623.11030411, 32108.47645064, 32247.47227227,\n",
       "        7176.5301398 ,  9582.66888808,  9931.21007987, 10625.77789583,\n",
       "       12342.37937826,  2238.37895648,  5766.62103251, 14204.74599495,\n",
       "        5288.10063125,  7953.56030375,  4856.69967095, 27197.6374567 ,\n",
       "       12403.49120896, 35726.67595292,  8819.8168252 , 32674.5336493 ,\n",
       "        3683.18350527, 14706.56298065, 12679.41277485,  1810.6118445 ,\n",
       "       28416.66619981,  6086.69469121,    54.1275345 ,  3695.9531587 ,\n",
       "       26675.33456143,  8977.6381956 ,  3316.94676916,  6458.72212548,\n",
       "       28920.92716873, 11450.46817115, 29403.59072166, 28256.0182558 ,\n",
       "       14166.9327217 ,  3510.28453421, 11505.46981183, 13280.70293427,\n",
       "       30665.54339975, 10103.85062734,  9653.31990332,  4188.85557453,\n",
       "       13404.59076027,  7414.13099797, 10513.14997027, 34509.35165116,\n",
       "        4931.47837798, 32431.41925228,  1679.35350135, 30251.51364596,\n",
       "       12338.05456311,  8247.4666332 , 12317.63787071,  6793.24543479,\n",
       "        9268.38592755,  4170.76197835,  5893.75352412, 33437.44452842,\n",
       "       11173.81003738,  4472.99132363,  3563.44003457,  9809.67800121,\n",
       "       10719.77955559, 11010.42931696,  4594.15288919,  6680.44329277,\n",
       "       37897.20515461,  3231.91059867, 34509.35165116,  7826.37371701,\n",
       "        3713.53722414, 16385.30369825, 15003.56030904, 11738.93500022,\n",
       "       11001.32317799,  9839.02636496,  7244.16893223, 31450.48542472,\n",
       "       31341.72420223,  2960.44227392,  5097.80200061, 11543.37546808,\n",
       "       37597.03954166, 13469.85558872,  8936.60529235,  8576.89614516,\n",
       "       26946.35344834,  9240.39613189,  8237.26440957,  3103.12980064,\n",
       "        6558.65227143, 12730.34745325, 12515.44864445,  9374.04503085,\n",
       "        6704.14737844, 14360.12333051,  6392.18419529, 14710.0378069 ,\n",
       "        8461.39265045,  8151.45405721, 31540.94249988, 17373.15149061,\n",
       "       28921.56121909,  6456.81357108, 15235.91188524,  8074.28036339,\n",
       "        8598.30684751,  7131.03103006,  7493.34582811,  2072.31541091,\n",
       "       11700.84985948,  8181.19232628, 10708.08923928,  2813.48434514,\n",
       "       15735.53480491,   143.4212085 , 10513.14997027,  8134.7021272 ,\n",
       "        5837.42301724, 27235.16411088,  5837.42301724,  4730.33025197,\n",
       "        8757.22495927,  8772.01828831,  7758.98362535,  7414.13099797,\n",
       "        4914.64009295, 12235.66550044,  5675.83442472,  4637.20827173,\n",
       "        1819.18698406, 11010.19965955, 14062.00557583, 12259.77730431,\n",
       "        1627.99347952, 12515.44864445, 26332.59442265, 32431.41925228,\n",
       "       12157.78684835, 13651.00491082, 10435.69450334,  7682.41351064,\n",
       "       29731.4305964 ,  6680.44329277, 11082.92598674,  2165.26874552,\n",
       "       12235.66550044,  4448.46212085,  7229.29643672,  4698.98977854,\n",
       "       31146.21070778, 29346.75018171, 14204.74599495,  7635.09656018,\n",
       "        7987.22051087,  7635.09656018,   990.12747519,  3276.24897422,\n",
       "       30189.44789774,  3375.11851879, 12117.16094309, 32933.56648379,\n",
       "       15102.48343997,  9231.84606368, 10909.83427891, 25674.20051962,\n",
       "        -319.89251822, 11838.39713155,  6090.17244202, 14428.961048  ,\n",
       "        2292.43723403, 10718.21838088, 28114.23835291,  6836.03881246,\n",
       "        4908.45321823, 13309.43584821,  4472.99132363,  5443.20029872,\n",
       "       28671.43643851,  4026.33184082, 14360.12333051, 13219.84952717,\n",
       "       34964.16577191, 16385.30369825, 10162.59472157, 11547.61174923,\n",
       "        7117.36263787,  8815.42833128, 36239.09294066, 39160.7375436 ,\n",
       "        8819.21204978,  9268.80715405,  9567.22387704,  3375.11851879,\n",
       "       11017.17788509, 15003.56030904,  -543.70515132, 32247.47227227,\n",
       "        7939.64509622, 32468.91473876, 37187.01813256, 12137.60125292,\n",
       "        4406.83141531,  8878.78580411, 12235.66550044,  3272.83541578,\n",
       "        4114.75263353,  7229.29643672, 12705.9999283 , 14229.39964106,\n",
       "        7913.28691105,  5059.08832871,  6567.3555333 , 14086.23228549,\n",
       "        9294.58925369, 12526.20046014, 12152.70512768,  2813.48434514,\n",
       "       13689.22225748,  6859.92335797, 10349.02011882,  9508.09789123,\n",
       "         845.21600239, 14488.72441428, 29081.31891332, 26587.86403195,\n",
       "        2236.5111201 ,  9273.01233588,  8243.52056894,  8452.85995075,\n",
       "        2165.26874552,  9753.75037144,  1093.33827326, 30665.54339975,\n",
       "       14530.07915285, 10119.69062805,  5542.24503599, 11397.31267079,\n",
       "       10435.69450334, 12710.14306563, 12703.13997472,  7511.27243213,\n",
       "       11738.93500022, 15474.54827344, 13388.95868585,  9574.51739082,\n",
       "        9155.46294398,  8842.52602414,  5473.89180721,  2546.19201393,\n",
       "       31483.57312274,  5021.58629516,  3202.13059164,   -85.75536119,\n",
       "       13163.61287395,  2648.41555511,  8496.38599417, 32322.13226028,\n",
       "        8078.68071214,   724.25446626, 11171.68984266,  4118.69094798,\n",
       "        7939.51722508,  4092.22442461,  8584.88575381, 13993.77611318,\n",
       "       33671.70835386, 15959.47530914, 14706.56298065,  8769.8247683 ,\n",
       "        5837.42301724,  2960.44227392,  4663.35680878, 14169.66233824,\n",
       "        5442.73368639,  4564.02522991, 10950.82108801,  7987.25834802,\n",
       "       13603.27388513,  2491.13393554,  5870.95174262, 10032.47658423,\n",
       "        4571.46471305,  1350.33922518, 32674.5336493 ,  8598.97824545,\n",
       "       10651.38533622,  8461.39265045, 12716.81250303,  7507.73628647,\n",
       "       29692.93338126, 16757.83221947, 38947.87699024,  2101.66377465,\n",
       "        6859.92335797, 34013.0776596 ,  5479.31583116,  8068.95019311,\n",
       "       11876.63232527,  2824.60049246,  6392.18419529, 11374.39843507,\n",
       "       11154.12437779, 10104.29481458, 28056.1756306 , 26544.40915403,\n",
       "       14418.84980507,  5168.53572854, 15474.40787491, 29346.75018171,\n",
       "       11374.39843507,  3276.24897422,  4035.59092227, 10095.60387413,\n",
       "        3966.98146475, 12173.3975963 , 12787.32668182,  6792.96604001,\n",
       "        8930.24133307, 11327.97993493, 36584.78390168, 35283.88237508,\n",
       "       27254.97305167,  3567.36197262,  2072.31541091, 31450.48542472,\n",
       "        9023.44805061, 29886.58767783, 14864.26537442,  4188.85557453,\n",
       "       14229.39964106, 13615.36802369,  7288.79736018, 13603.27388513,\n",
       "       13048.1018806 ,  3548.7678031 ,  8917.73802792,  3043.09573385,\n",
       "        9445.6630322 , 28166.45918509,  7749.61279799, 34014.34618727,\n",
       "        6792.96604001, 31483.57312274,  4952.54215137, 28416.66619981,\n",
       "        6980.81663731, 29583.69614317, 39833.07057439, 34281.38429848,\n",
       "        1585.30554789, 10401.39008024, 12679.41277485,  3669.20218882,\n",
       "       15225.14177177, 10485.85880369, 32674.5336493 , 28920.92716873,\n",
       "         148.80304375,  5847.19672171,  7393.03256317, 12476.07539923,\n",
       "       11951.4110323 ,  9728.62191246,  2648.41555511,  9024.88981384,\n",
       "       13186.31914832,  3879.001461  ,  7701.43062849,  6977.3120417 ,\n",
       "        5492.51806817,  3808.49207171, 35948.89984142,  6671.05147988,\n",
       "        2972.13083265,  6671.05147988,  9999.64849668, 38810.39270781,\n",
       "       10606.98923266, 31301.9891016 , 12925.0140845 ,  5933.58900873,\n",
       "       31328.13763864,  9914.49893625,  4016.03748535, 34617.73100348,\n",
       "       12878.80955935, 30189.44789774,  9268.38592755, 35957.05280934,\n",
       "       27468.89109815, 11327.97993493, 33771.19868066,  8451.21527721,\n",
       "       12368.43553231, 10130.42837752,  5167.90751604, 38467.55871536,\n",
       "       32051.17055755,  7675.61411069,  3309.6679267 ,  7443.82659188,\n",
       "        9728.62191246,  8930.24133307,  3914.89545543,  7955.14514752,\n",
       "        6530.36374428, 15434.04954534, 13343.33005151, 14247.8766074 ,\n",
       "       37694.71609216,  3808.49207171, 37184.04943393,  5719.73104318,\n",
       "       13664.72030503,  6271.5999394 , 12391.23591151,  9755.89227808,\n",
       "       15474.54827344, 33878.89161485,  5912.08452109, 28444.64277895,\n",
       "       33921.39497518,  9031.77975654,  7539.68425238,  8769.8247683 ,\n",
       "        2045.73766073,  3850.49388245, 31808.67522094,  9857.72981296,\n",
       "        8917.73802792, 31450.48542472, 11010.19965955,  8605.51275103,\n",
       "       26741.40568458, 25322.63991579, 10526.27190096,  5254.30360045,\n",
       "        8774.18819087, 32402.43922265,  6193.66071348,  7787.14282746,\n",
       "       38810.39270781, 34281.38429848, 11443.61104961, 11241.38041074,\n",
       "       32431.41925228,  8720.53909029,  6836.03881246, 32495.6321935 ,\n",
       "        7203.09362419,  2833.96402717,  1400.21526578, 10135.46469801,\n",
       "        7233.01429748,  3808.49207171,  4353.44453571, 33561.90462822,\n",
       "        8285.37541357, 15735.53480491,  6077.3745415 ,  8758.5408085 ,\n",
       "       14620.87200403,  9809.67800121,  3771.88319022,  5137.29537358,\n",
       "       28921.56121909,  6458.72212548, 29047.44687909, 31305.10957504,\n",
       "       10760.07487897, 13741.7915186 ,  1819.18698406,  6308.41655247,\n",
       "       14483.32764067, 29386.95869291, 12309.02444328,  1810.6118445 ,\n",
       "        2045.73766073, 32431.41925228, 12338.05456311, 29372.90986526,\n",
       "        7922.83480711,  9099.95372178,  5939.45524049, 33671.70835386,\n",
       "        5189.55797304, 32933.56648379,  8598.97824545, 10600.60697559,\n",
       "       11341.12813328,  6558.65227143, 11468.08328431,  5246.53120938,\n",
       "       13374.065224  ,  5595.84300176, 32442.17197585, 29081.31891332,\n",
       "        7635.09656018,  7939.64509622,  6792.96604001,  8598.30684751,\n",
       "       14072.61021942, 12933.37329194, 11341.12813328, 11171.68984266,\n",
       "       12156.76677029,  9709.50823822, 31146.21070778, 11505.46981183,\n",
       "       11925.17107174, 13163.61287395,  9639.8413392 , 12086.95319358,\n",
       "       13187.01561761,  4571.46471305,  7251.29458104, 10331.48655068,\n",
       "        8095.15662266, 10169.35411182, 29215.48539561, 10307.46879518,\n",
       "        5701.01672124, 10968.29269922, 29392.95763143,  8975.27045914,\n",
       "        4698.98977854, 13469.85558872, 29763.67986857,  8716.33147831,\n",
       "       14710.0378069 , 12025.80784776,  8598.97824545,  4076.63558813,\n",
       "       31341.72420223,  1350.33922518,  4571.46471305, 31477.69410599,\n",
       "       10636.47060041, 10307.46879518, 15045.90392864,  5305.44629271,\n",
       "       13465.79394611,  4663.35680878, 31623.11030411, 12173.3975963 ,\n",
       "        3532.16184246,  3510.28453421,  9231.84606368,  7414.13099797,\n",
       "       12526.20046014,  7002.70424394,  7269.75515512,  6434.56063606,\n",
       "       10526.27190096, 10461.61452925,  5624.77376546,  1981.0438414 ,\n",
       "       16757.83221947, 13561.58431082,  7818.64449552,  2098.52040242,\n",
       "        1386.67880914,  6434.56063606, 12131.66338265, 15874.93591461,\n",
       "        8975.27045914, 14868.157144  ,  9574.50749313, 13557.88770817,\n",
       "        9268.38592755,  8314.68490746,  1430.52581507,  9830.795043  ,\n",
       "       13632.46400812, 12411.27134984,  6792.96604001, 12031.14428284,\n",
       "        8917.73802792,  4856.69967095,   148.80304375,  3297.80850213,\n",
       "        2900.14760455,   823.85596827, 11073.64951537, 15781.71546145,\n",
       "        4565.72540086, 10129.87953105, 34281.38429848, 12382.44051781,\n",
       "       36159.7527068 ,  8618.86344402,  6530.36374428, 15735.53480491,\n",
       "       32317.77050308, 11860.86520703,  5624.77376546, 14052.23187136,\n",
       "       39241.48847711,  2106.39298277,  6016.2909579 ,  6423.88867597,\n",
       "         239.63906452,  7153.97878091, 34970.06485989, 11593.83121274,\n",
       "       10636.47060041,  8967.71852176, 10494.33426274, 15959.47530914,\n",
       "        5106.04875381, 11408.00026169,  3998.82519284,  4074.89878277,\n",
       "       10920.97881642, 29692.93338126, 12705.9999283 , 32933.56648379,\n",
       "       12716.81250303, 35726.67595292, 11298.69957681, 34148.78913977,\n",
       "       10102.4423951 , 31540.94249988,  8294.42553603, 10150.45954544,\n",
       "        3635.12966406, 37055.27778801,  5934.88630258,  5724.08167528,\n",
       "       15093.02917573, 13201.66449956,  4531.71291649,  1227.82514092,\n",
       "       12917.86654008,  8757.22495927,  2900.14760455, 15760.58494712,\n",
       "        9704.66834932,  9374.04503085,  7265.12177367,  2831.69014437,\n",
       "        5254.25418747, 11842.61509194,  5325.89918156,  5242.82520345,\n",
       "       29450.43456523, 36239.09294066,  6859.92335797, 12391.23591151,\n",
       "       33561.90462822,  7749.61279799, 12117.16094309,  7595.30667529,\n",
       "        2769.95830172,  6777.56254509, 10095.60387413,  6776.52507712,\n",
       "        5725.0870304 , 37597.03954166,  5152.02362156,  8285.37541357,\n",
       "        4794.17673507, 28508.73943349, 15444.94948709,  3548.7678031 ,\n",
       "        8772.01828831, 11365.14755415, 10740.22229558,  3604.75160356,\n",
       "        5528.5887306 , 13557.88770817,  2978.7295306 , 13979.21509266,\n",
       "       14961.34523314,  6357.50414542, 14545.23732228, 15620.09379661,\n",
       "        2648.41555511,  8068.95019311,  9857.72981296, 39833.07057439,\n",
       "       11500.78282816,  9839.02636496,  9801.7877798 , 14126.46173193,\n",
       "       36013.55435693,  3843.77256466,  9291.85843441,  2098.52040242,\n",
       "        4564.02522991,  9332.28790807, 10950.82108801,  3998.82519284,\n",
       "       35726.59798918, 11443.61104961,   239.63906452,  8828.66631403,\n",
       "       12342.37937826, 28643.86804972,  9639.8413392 ,  6256.375235  ,\n",
       "       14483.32764067,  2661.31333084,  6108.64940835,  2824.60049246,\n",
       "        9945.24351201, 10473.21455398, 10331.36806362, 15452.84257661,\n",
       "        3966.98146475,   550.17211982,  3337.01748021,  8716.33147831,\n",
       "        8138.87036699,  7913.28691105, 30165.7556669 ,  7083.46887252,\n",
       "        3375.11851879, 10968.29269922, 31623.11030411,  8769.99486387,\n",
       "        7443.82659188,  5242.82520345, 12985.20549693])"
      ]
     },
     "execution_count": 26,
     "metadata": {},
     "output_type": "execute_result"
    }
   ],
   "source": [
    "model_re.predict(X_re)"
   ]
  },
  {
   "cell_type": "code",
   "execution_count": 27,
   "metadata": {},
   "outputs": [
    {
     "data": {
      "text/plain": [
       "array([-2.48150708e+03, -1.19065270e+04, -1.08545576e+03, -8.69151412e+02,\n",
       "        5.58129658e+03,  7.59501372e+02, -4.97279513e+02,  1.37424781e+03,\n",
       "       -2.88118878e+03, -1.49466701e+01, -1.99752298e+03,  9.98460751e+03,\n",
       "       -1.00800861e+04, -4.05379325e+03, -1.13071475e+03, -2.21966465e+03,\n",
       "       -6.62210148e+02, -8.55575448e+02, -2.04595191e+03,  5.38843843e+03,\n",
       "       -5.88374360e+02, -1.48837265e+03,  1.45136562e+04, -1.57315509e+03,\n",
       "       -3.50375214e+03, -4.90436091e+03,  5.27497079e+03,  1.18813247e+03,\n",
       "        7.88263038e+02, -1.37293316e+01,  5.79641210e+02, -1.92591756e+03,\n",
       "        1.23083417e+04, -1.80185896e+03, -2.03220124e+03, -3.19405587e+03,\n",
       "       -1.35152241e+03,  1.75775441e+04,  2.05355697e+02, -3.27399057e+03,\n",
       "        2.78225356e+01,  6.94428214e+03, -1.01324831e+04, -4.25920633e+02,\n",
       "       -3.98966892e+03, -3.65175170e+03, -1.49466701e+01,  8.18979684e+03,\n",
       "        2.23205402e+03,  7.19781478e+02, -1.35583196e+03, -4.46432266e+03,\n",
       "       -2.33873289e+03,  1.41918426e+04, -3.38988206e+03, -4.40788923e+03,\n",
       "       -2.22178643e+03, -1.00409946e+03, -3.57107282e+03, -1.97831405e+03,\n",
       "       -1.95880393e+03, -2.31888292e+03, -1.49466701e+01,  5.46528957e+02,\n",
       "        3.53009491e+02, -3.92403099e+03,  9.55026204e+01, -2.38451626e+03,\n",
       "        1.16414685e+04, -1.82200019e+03, -1.54430397e+03, -3.77280045e+03,\n",
       "       -1.86907060e+03, -7.77898681e+02,  5.25678495e+03, -2.10073413e+03,\n",
       "        8.85074623e+03,  1.29623456e+04,  5.72124775e+03, -1.11489182e+04,\n",
       "       -1.69206284e+03,  8.34663448e+03, -2.88118878e+03,  1.10390160e+03,\n",
       "       -2.47607453e+03,  2.28433889e+04, -3.26820663e+03,  6.25825167e+03,\n",
       "       -3.65505623e+03,  3.48975346e+02,  3.52879179e+02, -9.84495716e+03,\n",
       "       -1.80185896e+03,  6.83375445e+03, -1.48206883e+03, -1.09031913e+04,\n",
       "       -8.94126105e+02, -3.72406168e+03, -3.37471087e+03, -1.94845145e+02,\n",
       "        6.36294880e+03, -4.05972059e+03,  1.18813247e+03,  1.86997911e+04,\n",
       "       -1.02244399e+04, -9.50971596e+02, -1.67738367e+03, -2.30898613e+03,\n",
       "       -1.21446231e+04, -1.21896827e+03,  6.81581473e+03,  8.64271482e+03,\n",
       "       -5.59707092e+03,  1.78345622e+04,  2.84438459e+03,  7.13968657e+01,\n",
       "       -9.91955430e+03, -6.56600277e+02, -1.49060365e+03, -8.79062975e+02,\n",
       "       -1.41742256e+03, -9.17244998e+02, -2.78589677e+03,  5.04714285e+03,\n",
       "       -1.28638898e+03, -1.12077435e+04,  1.23421550e+03, -1.12282536e+04,\n",
       "       -4.97279513e+02,  1.07157053e+04, -2.12317871e+02,  1.92261515e+02,\n",
       "        1.30870107e+03, -2.19069198e+03, -1.45254037e+03,  2.51336300e+04,\n",
       "       -4.50756704e+03, -9.91123324e+02, -1.35970408e+03,  2.04749649e+04,\n",
       "       -2.43609886e+03, -4.63687197e+03, -8.37531289e+02, -3.08284729e+03,\n",
       "        7.80481720e+03,  8.04042079e+03,  5.04714285e+03,  1.35579628e+03,\n",
       "       -1.07449432e+03, -2.55418850e+03, -3.90993741e+03,  2.71091940e+03,\n",
       "       -3.26946533e+03, -5.56545765e+02, -2.00340393e+03,  5.62888658e+03,\n",
       "       -1.10448608e+04, -1.24008857e+03, -2.39823365e+03,  1.56922933e+03,\n",
       "        7.04415786e+03,  1.29972418e+04, -4.52129235e+00,  9.90094755e+02,\n",
       "       -9.86108585e+03,  1.77331577e+03, -1.09240176e+03, -1.48094130e+03,\n",
       "       -3.16529592e+03,  1.65236160e+03, -1.21610564e+03,  2.65828097e+03,\n",
       "       -1.87351738e+03, -3.75773833e+03, -1.13071475e+03, -2.06383081e+03,\n",
       "        1.39373875e+03, -1.31408536e+03, -1.17428879e+04, -5.99182609e+03,\n",
       "       -1.06108192e+04, -2.58061771e+02, -1.34794339e+03, -1.61643696e+03,\n",
       "       -8.56197048e+02, -1.00746223e+03, -1.28944408e+03,  6.36928539e+02,\n",
       "       -4.75214906e+03, -2.05239488e+03,  1.12907076e+03, -1.06901935e+03,\n",
       "       -4.32384980e+03,  2.44184779e+03, -2.78589677e+03, -7.15224227e+02,\n",
       "       -1.27323157e+03,  5.31317639e+03, -1.27323157e+03, -2.29991002e+02,\n",
       "       -3.17291926e+03,  3.29779712e+02,  2.23205402e+03, -9.17244998e+02,\n",
       "       -1.52166329e+03,  2.01894270e+03, -3.68890102e+03, -1.77008867e+03,\n",
       "        1.36132312e+03,  7.53871405e+01, -4.54636826e+02, -3.46118430e+03,\n",
       "        7.76310205e+01, -1.21610564e+03, -1.08144142e+04, -1.12077435e+04,\n",
       "       -3.81062255e+03, -3.42472071e+03,  1.08440535e+03,  5.86630489e+02,\n",
       "       -1.02094624e+04, -3.08284729e+03,  1.54697071e+03, -1.57323746e+02,\n",
       "        2.01894270e+03, -2.39313722e+03, -2.58253744e+03, -3.05256008e+03,\n",
       "        5.69125629e+03,  6.23882582e+03,  6.25825167e+03, -5.88374360e+02,\n",
       "        9.78575239e+02, -5.88374360e+02,  7.12327825e+02,  1.48977303e+03,\n",
       "        5.89577110e+03,  1.55801017e+04, -2.15310094e+03, -1.04715227e+04,\n",
       "       -6.27808440e+02, -6.30516764e+02,  1.46072794e+04, -1.09624567e+04,\n",
       "        2.04878952e+03, -3.71261263e+03,  1.07062395e+04, -2.16345415e+03,\n",
       "       -5.83511484e+02, -1.23057418e+03, -9.78600025e+03, -8.69151412e+02,\n",
       "        2.28158355e+04, -2.46130155e+03, -9.91123324e+02, -4.50823899e+02,\n",
       "        5.94640421e+03, -2.63480314e+03, -3.75773833e+03, -1.86318863e+03,\n",
       "        6.00999913e+03, -2.55418850e+03, -2.90085372e+03, -1.20868015e+03,\n",
       "        1.00110634e+04, -7.55749231e+02,  7.65728336e+03,  8.76729246e+03,\n",
       "       -2.88483225e+03, -4.50647815e+03,  2.96247923e+02,  1.55801017e+04,\n",
       "       -6.10092035e+02, -3.90993741e+03,  2.27149015e+03, -1.11489182e+04,\n",
       "       -1.65741010e+03, -1.07916313e+04, -8.04565783e+03,  2.31423390e+03,\n",
       "       -2.67929142e+03, -2.54071020e+03,  2.01894270e+03,  2.89053484e+02,\n",
       "        9.65343366e+02, -2.58253744e+03, -6.27037623e+03, -4.35371924e+03,\n",
       "       -1.16654441e+03, -8.24161329e+02, -2.10073413e+03, -5.14211719e+03,\n",
       "        2.24028340e+03, -4.72203996e+03,  6.62739822e+02, -1.06901935e+03,\n",
       "       -1.04584446e+03,  3.62862892e+02, -1.79767312e+03, -9.01880491e+02,\n",
       "        7.82066448e+02, -1.34538776e+03, -1.08221029e+04, -9.70294003e+03,\n",
       "       -1.49466701e+01, -1.83195934e+03, -1.84991712e+03,  1.61501884e+04,\n",
       "       -1.57323746e+02, -3.20200027e+03,  8.71441727e+02, -9.91955430e+03,\n",
       "        1.37578185e+04,  1.71409167e+03, -1.10715084e+03,  1.30791658e+04,\n",
       "        1.08440535e+03, -8.67519316e+02, -1.77920677e+03, -2.18387218e+03,\n",
       "        2.71091940e+03,  5.94536477e+02, -3.50889069e+03,  6.23254809e+02,\n",
       "       -1.94597114e+03, -3.99859024e+02, -8.55811907e+02, -9.10458364e+02,\n",
       "        7.02805518e+03, -1.63618715e+03, -9.44655342e+02,  1.32732036e+03,\n",
       "       -4.32613274e+02, -8.05896555e+02, -2.31025899e+03,  5.28539544e+03,\n",
       "       -1.76492171e+03,  3.97619434e+02, -2.20762929e+03,  5.69106052e+02,\n",
       "       -3.26887723e+03, -1.37294467e+03, -3.91149355e+03, -6.00020113e+02,\n",
       "        5.32683765e+03, -1.72440331e+03, -3.72406168e+03, -1.23266087e+03,\n",
       "       -1.27323157e+03, -1.24008857e+03, -3.52191171e+03, -1.80611534e+03,\n",
       "       -1.68144169e+03, -1.92075673e+03, -2.18557209e+03, -6.62210148e+02,\n",
       "       -2.33873289e+03,  1.51428856e+03, -1.63382519e+03, -3.43227063e+03,\n",
       "        1.87174637e+04,  1.33061007e+03, -1.09031913e+04, -8.69332495e+02,\n",
       "        8.15476013e+03,  1.39373875e+03,  1.46059214e+04,  1.11980481e+03,\n",
       "        5.11353432e+03, -1.52750817e+03,  8.10765511e+03,  9.48094253e+01,\n",
       "        3.62862892e+02, -1.02058371e+04, -8.18029481e+02, -5.50924843e+02,\n",
       "        1.17070002e+03, -1.00872459e+03, -1.13071475e+03,  2.24196016e+03,\n",
       "       -4.79313078e+03, -1.82367211e+03,  6.24699157e+03, -1.19725184e+04,\n",
       "       -3.32813201e+03, -6.07347229e+02,  8.75292937e+03,  6.23882582e+03,\n",
       "        2.24196016e+03,  1.48977303e+03, -2.15552092e+03, -8.46108674e+02,\n",
       "       -1.24566066e+03,  1.62955214e+04,  2.20110532e+03, -4.31198694e+03,\n",
       "        6.89858040e+03, -4.17530853e+03,  5.71890825e+03,  5.75033902e+03,\n",
       "       -9.03152185e+03, -5.23148673e+02,  6.36928539e+02,  5.62888658e+03,\n",
       "       -3.18692765e+03, -1.08457117e+04,  1.59144248e+03, -8.79062975e+02,\n",
       "       -4.35371924e+03, -3.91069997e+03, -2.26065076e+03, -2.33873289e+03,\n",
       "       -4.25922381e+02, -2.68899253e+02, -2.55896158e+03,  1.94505639e+04,\n",
       "       -6.18453132e+02,  5.56622751e+03, -1.19454245e+03, -1.01266835e+04,\n",
       "       -4.31198694e+03,  7.02805518e+03, -7.45611014e+01,  6.36294880e+03,\n",
       "       -2.70624737e+02, -1.24041741e+04,  8.84244713e+03,  5.99226120e+03,\n",
       "        2.51931452e+02,  1.45136562e+04, -3.37471087e+03, -9.79088389e+02,\n",
       "       -9.11295472e+02,  1.54342790e+03, -1.09031913e+04, -1.21446231e+04,\n",
       "        1.45870706e+03, -1.50946152e+03, -1.00365471e+03, -5.02767145e+03,\n",
       "       -2.93692132e+02, -2.04595191e+03, -8.05896555e+02,  3.36436986e+02,\n",
       "       -6.28713848e+02, -1.35583196e+03, -1.79048663e+03, -5.63134042e+02,\n",
       "       -3.07556307e+03,  3.91819283e+01,  7.03455866e+03, -1.28751548e+03,\n",
       "       -8.69866133e+02, -1.28751548e+03, -6.00547070e+03,  7.90777054e+03,\n",
       "        5.43790767e+02,  5.64826760e+03, -1.41260908e+03,  6.95646864e+03,\n",
       "        8.39460856e+03, -1.79781894e+03,  1.67739301e+03,  6.32355440e+03,\n",
       "       -9.40553609e+02,  5.89577110e+03,  1.30870107e+03,  6.04246719e+03,\n",
       "       -9.90851135e+03, -4.17530853e+03,  6.41104732e+03, -3.93238903e+03,\n",
       "       -1.99752298e+03, -6.83045978e+02, -9.28014866e+02,  8.19388368e+03,\n",
       "        3.01820396e+03, -1.21975146e+03,  1.74663073e+02,  2.20042591e+03,\n",
       "       -2.04595191e+03,  6.89858040e+03, -2.65345346e+03, -1.97831405e+03,\n",
       "       -1.37822974e+03,  5.27497079e+03, -3.95198405e+03, -2.01203741e+03,\n",
       "        8.50626901e+03,  3.91819283e+01,  6.73713427e+03, -1.45898704e+03,\n",
       "       -2.70502561e+03, -3.54149209e+03, -3.00507461e+03, -6.06246428e+03,\n",
       "        5.94536477e+02,  5.89538469e+03, -1.66849447e+03,  6.38401122e+03,\n",
       "        6.18249502e+03, -3.33194226e+03, -3.77280045e+03, -1.23266087e+03,\n",
       "        6.63374239e+02,  1.26600652e+03,  6.43691805e+03, -2.51264581e+03,\n",
       "       -2.55896158e+03,  5.62888658e+03,  7.53871405e+01, -2.36721475e+03,\n",
       "       -1.22857616e+04, -1.15747676e+04, -9.08609451e+02, -3.08757160e+03,\n",
       "       -1.92516219e+03,  2.27329629e+04,  1.40841468e+04,  4.65141473e+02,\n",
       "        7.90777054e+03,  5.99226120e+03,  4.87514200e+02,  1.61046617e+04,\n",
       "       -1.12077435e+04, -1.16055440e+02, -8.69151412e+02,  6.25072291e+03,\n",
       "       -2.35617347e+03,  3.42851873e+02,  8.00881834e+02,  1.95901330e+03,\n",
       "       -4.54351890e+03,  3.91819283e+01, -1.29705644e+03, -1.02553576e+04,\n",
       "       -1.53678421e+03, -4.32384980e+03, -2.41802854e+03, -2.10475221e+03,\n",
       "       -7.98069004e+02,  2.04749649e+04,  3.62199260e+02,  2.16779276e+02,\n",
       "       -1.06108192e+04, -2.30898613e+03, -1.03990252e+04, -9.83263078e+03,\n",
       "       -2.22178643e+03, -2.37850832e+03,  1.36132312e+03,  9.38747975e+01,\n",
       "       -3.08642744e+03, -9.45350069e+03, -1.74853274e+03, -1.94845145e+02,\n",
       "        6.63374239e+02, -1.12077435e+04, -4.97279513e+02, -1.02651303e+04,\n",
       "       -1.15264231e+03, -8.66856222e+02, -2.76743724e+03,  5.32683765e+03,\n",
       "       -2.46216287e+03, -1.04715227e+04, -8.69332495e+02, -3.44027668e+03,\n",
       "        7.03213867e+02, -3.16529592e+03, -2.91117628e+03, -3.71222671e+03,\n",
       "       -1.10437657e+03, -3.96126960e+03,  7.16958572e+03, -1.08221029e+04,\n",
       "       -5.88374360e+02, -1.65741010e+03, -4.31198694e+03, -8.56197048e+02,\n",
       "       -4.56829992e+03, -4.59046454e+03,  7.03213867e+02, -2.20762929e+03,\n",
       "        1.31765661e+04, -2.29098624e+03,  5.69125629e+03,  2.84438459e+03,\n",
       "       -1.81016222e+03, -4.32613274e+02, -3.66746334e+03,  8.27039206e+02,\n",
       "       -1.30791157e+03,  1.87174637e+04, -3.98244793e+03, -1.10908395e+03,\n",
       "       -4.85672092e+03, -3.38799991e+03,  7.09231290e+03, -1.33913880e+03,\n",
       "       -1.82371247e+03, -3.73791149e+02,  4.86109572e+03, -3.34481261e+03,\n",
       "       -3.05256008e+03,  1.29972418e+04, -1.11554179e+04, -1.81659678e+02,\n",
       "       -2.06383081e+03, -5.41569815e+03, -8.69332495e+02, -7.23351588e+02,\n",
       "       -1.10448608e+04,  1.33061007e+03,  1.87174637e+04,  1.24661820e+04,\n",
       "        9.11291278e+03, -1.33913880e+03, -1.81705698e+03,  4.03420707e+02,\n",
       "       -3.67585461e+01, -3.52191171e+03,  1.29623456e+04,  1.62955214e+04,\n",
       "        1.37424781e+03,  1.78345622e+04, -6.30516764e+02, -9.17244998e+02,\n",
       "       -4.72203996e+03, -2.25163424e+03, -1.08545576e+03, -1.40329109e+03,\n",
       "       -9.08609451e+02, -3.30152053e+03, -1.05336072e+03,  1.69425159e+02,\n",
       "       -1.52750817e+03, -1.81765021e+03,  3.92455704e+02, -1.28906402e+02,\n",
       "        3.50697191e+02, -1.40329109e+03, -2.49693783e+02, -4.29880591e+03,\n",
       "       -3.34481261e+03, -2.21945374e+03, -7.51228493e+02, -2.12114956e+03,\n",
       "        1.30870107e+03, -4.90436091e+03,  8.48190849e+01, -7.39273984e+03,\n",
       "        7.61934142e+02, -3.26670635e+03, -4.31198694e+03, -3.73029233e+02,\n",
       "       -2.55896158e+03,  3.52879179e+02,  1.45870706e+03, -9.13171521e+01,\n",
       "        6.94023245e+02,  2.34359988e+03, -5.63490042e+03, -6.34879016e+03,\n",
       "       -1.02802240e+03,  8.12252519e+02,  5.99226120e+03, -3.40425542e+03,\n",
       "       -8.62583981e+03, -1.82200019e+03, -1.37822974e+03, -4.32384980e+03,\n",
       "        6.39322950e+03, -6.10345176e+03, -1.05336072e+03, -6.21966871e+02,\n",
       "        8.25500597e+03, -3.98391583e+02, -3.11680161e+03, -2.84588968e+03,\n",
       "        1.49203794e+03,  1.27409052e+03,  6.97917924e+03,  1.85729079e+03,\n",
       "        9.11291278e+03, -2.85536557e+03, -4.02032126e+03, -1.72440331e+03,\n",
       "       -2.20872525e+03,  8.08871891e+03, -2.73696619e+03,  1.99847814e+04,\n",
       "       -1.19644882e+03,  5.11353432e+03, -6.27037623e+03, -1.04715227e+04,\n",
       "        1.46059214e+04,  6.83375445e+03,  8.26292823e+02, -9.61309059e+03,\n",
       "        3.10184325e+03, -1.17428879e+04,  9.58447514e+03,  3.43486255e+02,\n",
       "        1.94478257e+04,  7.34512861e+03, -1.48048365e+03, -1.58655898e+03,\n",
       "        2.14872530e+04,  1.19289340e+03, -1.78976492e+03,  1.29999351e+03,\n",
       "        1.01979996e+03, -3.17291926e+03,  6.94023245e+02, -2.77771025e+03,\n",
       "       -1.15697705e+03,  2.65828097e+03,  1.34023973e+03, -4.36518594e+02,\n",
       "       -2.78092009e+03, -1.57315509e+03, -1.37293316e+01, -1.26084840e+03,\n",
       "        5.38843843e+03,  7.65728336e+03,  3.62862892e+02, -3.00507461e+03,\n",
       "       -1.02553576e+04, -1.19454245e+03, -2.15310094e+03,  9.86995625e+02,\n",
       "       -7.97008302e+02, -2.37783155e+03, -8.46108674e+02, -4.79207178e+03,\n",
       "       -1.19790408e+03,  7.04415786e+03,  1.60101438e+03, -1.53678421e+03,\n",
       "       -2.77362444e+03,  5.65753357e+03, -2.95914859e+03, -2.68899253e+02,\n",
       "        3.29779712e+02, -1.11726554e+02, -1.86907060e+03, -1.72682220e+03,\n",
       "       -1.58117563e+03, -2.12114956e+03, -7.77898681e+02, -3.39950409e+03,\n",
       "       -1.98198723e+03, -2.43174595e+03, -3.56803102e+03, -4.05379325e+03,\n",
       "       -8.05896555e+02, -5.50924843e+02, -2.51264581e+03,  8.84244713e+03,\n",
       "       -2.97325083e+03, -5.56545765e+02, -2.36028678e+03, -2.81664532e+02,\n",
       "       -9.08703996e+03, -1.71309666e+03,  1.78261353e+04, -1.28906402e+02,\n",
       "       -1.92075673e+03, -4.53663111e+03, -2.18557209e+03, -2.73696619e+03,\n",
       "        5.37056376e+03,  4.87514200e+02,  1.49203794e+03,  1.03860392e+04,\n",
       "       -2.47607453e+03,  5.25678495e+03, -3.66746334e+03, -2.18192154e+03,\n",
       "       -3.08642744e+03, -6.35343308e+01, -7.23311508e+02, -1.00872459e+03,\n",
       "       -2.19608711e+03, -3.12507255e+03, -2.26860406e+03, -2.47149688e+03,\n",
       "       -1.24566066e+03,  1.28192188e+03, -1.18026568e+03, -1.81659678e+02,\n",
       "        1.80977096e+04, -1.16654441e+03,  5.95881803e+03, -1.61446227e+03,\n",
       "        1.55801017e+04, -3.73791149e+02,  1.29623456e+04, -3.63173816e+03,\n",
       "        2.20042591e+03, -1.26084840e+03, -3.10759780e+03])"
      ]
     },
     "execution_count": 27,
     "metadata": {},
     "output_type": "execute_result"
    }
   ],
   "source": [
    "y - model_re.predict(X_re)"
   ]
  },
  {
   "cell_type": "code",
   "execution_count": 28,
   "metadata": {},
   "outputs": [
    {
     "data": {
      "text/plain": [
       "[<matplotlib.lines.Line2D at 0x1a2be1834c8>]"
      ]
     },
     "execution_count": 28,
     "metadata": {},
     "output_type": "execute_result"
    },
    {
     "data": {
      "image/png": "[encoded data removed]",
      "text/plain": [
       "<Figure size 432x288 with 1 Axes>"
      ]
     },
     "metadata": {
      "needs_background": "light"
     },
     "output_type": "display_data"
    }
   ],
   "source": [
    "plt.plot(model_re.predict(X_re), y, 'b.')"
   ]
  },
  {
   "cell_type": "code",
   "execution_count": 29,
   "metadata": {},
   "outputs": [
    {
     "data": {
      "text/plain": [
       "0.7396711805805427"
      ]
     },
     "execution_count": 29,
     "metadata": {},
     "output_type": "execute_result"
    }
   ],
   "source": [
    "model_re.score(X_re, y)"
   ]
  },
  {
   "cell_type": "code",
   "execution_count": 30,
   "metadata": {},
   "outputs": [
    {
     "data": {
      "text/plain": [
       "array([235.42378293, 279.76579137, 328.1851105 ])"
      ]
     },
     "execution_count": 30,
     "metadata": {},
     "output_type": "execute_result"
    }
   ],
   "source": [
    "model_re.coef_[0:3]"
   ]
  },
  {
   "cell_type": "code",
   "execution_count": 31,
   "metadata": {},
   "outputs": [
    {
     "data": {
      "text/plain": [
       "array([[1., 0., 1., 0., 0., 0., 1., 0.],\n",
       "       [1., 0., 0., 1., 1., 0., 0., 0.],\n",
       "       [1., 0., 1., 0., 0., 0., 1., 0.],\n",
       "       [0., 1., 1., 0., 0., 0., 1., 0.],\n",
       "       [0., 1., 1., 0., 0., 0., 1., 0.]])"
      ]
     },
     "execution_count": 31,
     "metadata": {},
     "output_type": "execute_result"
    }
   ],
   "source": [
    "X_cat_2[0:5,:]"
   ]
  },
  {
   "cell_type": "code",
   "execution_count": 32,
   "metadata": {},
   "outputs": [
    {
     "data": {
      "text/plain": [
       "[array(['female', 'male'], dtype=object),\n",
       " array(['no', 'yes'], dtype=object),\n",
       " array(['northeast', 'northwest', 'southeast', 'southwest'], dtype=object)]"
      ]
     },
     "execution_count": 32,
     "metadata": {},
     "output_type": "execute_result"
    }
   ],
   "source": [
    "cat_encoder.categories_"
   ]
  },
  {
   "cell_type": "code",
   "execution_count": 33,
   "metadata": {},
   "outputs": [
    {
     "data": {
      "text/plain": [
       "array([    50.7908963 ,    -50.7908963 , -12152.96734521,  12152.96734521,\n",
       "          514.20793498,     54.1394287 ,   -238.45755094,   -329.88981275])"
      ]
     },
     "execution_count": 33,
     "metadata": {},
     "output_type": "execute_result"
    }
   ],
   "source": [
    "model_re.coef_[3:]"
   ]
  }
 ],
 "metadata": {
  "kernelspec": {
   "display_name": "Python 3",
   "language": "python",
   "name": "python3"
  },
  "language_info": {
   "codemirror_mode": {
    "name": "ipython",
    "version": 3
   },
   "file_extension": ".py",
   "mimetype": "text/x-python",
   "name": "python",
   "nbconvert_exporter": "python",
   "pygments_lexer": "ipython3",
   "version": "3.7.6"
  }
 },
 "nbformat": 4,
 "nbformat_minor": 4
}
